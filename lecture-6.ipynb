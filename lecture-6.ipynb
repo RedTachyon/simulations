{
 "cells": [
  {
   "cell_type": "code",
   "execution_count": 370,
   "metadata": {
    "collapsed": false
   },
   "outputs": [],
   "source": [
    "import numpy as np\n",
    "import matplotlib.pyplot as plt\n",
    "\n",
    "from tqdm import tqdm\n",
    "from scipy import polyfit\n"
   ]
  },
  {
   "cell_type": "code",
   "execution_count": 34,
   "metadata": {
    "collapsed": true
   },
   "outputs": [],
   "source": [
    "def generate_matrices(m):\n",
    "    W = np.array([[m[0], m[1]],\n",
    "                  [m[2], m[3]]])\n",
    "    \n",
    "    b = np.array([m[4], m[5]], dtype=float)\n",
    "    \n",
    "    return W, b"
   ]
  },
  {
   "cell_type": "code",
   "execution_count": 153,
   "metadata": {
    "collapsed": true
   },
   "outputs": [],
   "source": [
    "def get_random_params(m_list, probs):\n",
    "    m = m_list[np.random.choice(range(len(m_list)), p=probs)]\n",
    "    return generate_matrices(m)"
   ]
  },
  {
   "cell_type": "code",
   "execution_count": 209,
   "metadata": {
    "collapsed": true
   },
   "outputs": [],
   "source": [
    "plt.rcParams['axes.facecolor'] = 'black'"
   ]
  },
  {
   "cell_type": "code",
   "execution_count": 221,
   "metadata": {
    "collapsed": true
   },
   "outputs": [],
   "source": [
    "sierpinski_nums = [\n",
    "    [0.5, 0.0, 0.0, 0.5, 0.0, 0.0],\n",
    "    [0.5, 0.0, 0.0, 0.5, 0.5, 0.0],\n",
    "    [0.5, 0.0, 0.0, 0.5, 0.25, np.sqrt(3.)/4],\n",
    "]\n",
    "\n",
    "sierpinski_probs = [\n",
    "    1./3,\n",
    "    1./3,\n",
    "    1./3,\n",
    "]\n",
    "\n",
    "sierpinski = (sierpinski_nums, sierpinski_probs)\n",
    "\n",
    "barnsley_nums = [\n",
    "    [.85, .04, -.04, .85, .0, 1.6],\n",
    "    [.2, -.26, .23, .22, .0, 1.6],\n",
    "    [-.15, .28, .26, .24, .0, .44],\n",
    "    [.0, .0, .0, .16, .0, .0],\n",
    "]\n",
    "\n",
    "barnsley_probs = [\n",
    "    .73,\n",
    "    .13,\n",
    "    .11,\n",
    "    .03,\n",
    "]\n",
    "\n",
    "barnsley = (barnsley_nums, barnsley_probs)\n",
    "\n",
    "dragon_nums = [\n",
    "    [.824074, .281482, -.212346, .864198, -1.882290, -0.110607],\n",
    "    [.088272, .520988, -.463889, -.377778, .785360, 8.095795],\n",
    "]\n",
    "\n",
    "dragon_probs = [\n",
    "    .787473,\n",
    "    .212527,\n",
    "]\n",
    "\n",
    "dragon = dragon_nums, dragon_probs\n",
    "\n",
    "levy_nums = [\n",
    "    [.5, -.5, .5, .5, .0, .0],\n",
    "    [.5, .5, -.5, .5, .5, .5],\n",
    "]\n",
    "\n",
    "levy_probs = [\n",
    "    .5,\n",
    "    .5,\n",
    "]\n",
    "\n",
    "levy = levy_nums, levy_probs"
   ]
  },
  {
   "cell_type": "code",
   "execution_count": 414,
   "metadata": {
    "collapsed": false,
    "scrolled": true
   },
   "outputs": [
    {
     "name": "stderr",
     "output_type": "stream",
     "text": [
      "100%|██████████| 499999/499999 [05:24<00:00, 1542.20it/s]\n"
     ]
    }
   ],
   "source": [
    "m_list, probs = levy\n",
    "probs = np.array(probs)\n",
    "\n",
    "x = np.array([0, 0])\n",
    "\n",
    "history = x.copy()\n",
    "for step in tqdm(range(500000-1)):\n",
    "    W, b = get_random_params(m_list, probs)\n",
    "    x = np.dot(W, x) + b\n",
    "    history = np.vstack((history, x))"
   ]
  },
  {
   "cell_type": "code",
   "execution_count": 416,
   "metadata": {
    "collapsed": false
   },
   "outputs": [],
   "source": [
    "plt.rcParams['axes.facecolor'] = 'black'\n",
    "plt.scatter(history[:, 0], history[:, 1], lw=0, s=.4, c='g')\n",
    "plt.show()"
   ]
  },
  {
   "cell_type": "code",
   "execution_count": 365,
   "metadata": {
    "collapsed": true
   },
   "outputs": [],
   "source": [
    "xpoints, ypoints = history[:, 0], history[:, 1]\n",
    "xmin, ymin = np.min(xpoints), np.min(ypoints)\n",
    "xmax, ymax = np.max(xpoints), np.max(ypoints)"
   ]
  },
  {
   "cell_type": "code",
   "execution_count": 390,
   "metadata": {
    "collapsed": false
   },
   "outputs": [
    {
     "name": "stderr",
     "output_type": "stream",
     "text": [
      "100%|██████████| 11/11 [00:00<00:00, 121.72it/s]\n"
     ]
    }
   ],
   "source": [
    "r_history = []\n",
    "N_history = []\n",
    "for r in tqdm(range(11)):\n",
    "    box = np.zeros((2**r, 2**r))\n",
    "    tabx = np.array((xpoints - xmin) / (xmax - xmin + 1e-8) * 2**r, dtype=int)\n",
    "    taby = np.array((ypoints - ymin) / (ymax - ymin + 1e-8) * 2**r, dtype=int)\n",
    "\n",
    "    box[tabx, taby] = 1\n",
    "    \n",
    "    r_history.append(r)\n",
    "    N_history.append(box.sum())\n",
    "    \n",
    "r_history = np.array(r_history)\n",
    "N_history = np.array(N_history)"
   ]
  },
  {
   "cell_type": "code",
   "execution_count": 429,
   "metadata": {
    "collapsed": false
   },
   "outputs": [],
   "source": [
    "X = np.log(2) * r_history\n",
    "Y = np.log(N_history)\n",
    "\n",
    "a, b = polyfit(X, Y, 1)\n",
    "\n",
    "plt.rcParams['axes.facecolor'] = 'white'\n",
    "\n",
    "plt.scatter(X, Y)\n",
    "plt.plot(X, a*X + b)\n",
    "plt.show()"
   ]
  },
  {
   "cell_type": "code",
   "execution_count": 422,
   "metadata": {
    "collapsed": false
   },
   "outputs": [
    {
     "data": {
      "text/plain": [
       "array([ 1.57808462,  0.292385  ])"
      ]
     },
     "execution_count": 422,
     "metadata": {},
     "output_type": "execute_result"
    }
   ],
   "source": [
    "polyfit(X, Y, 1)"
   ]
  },
  {
   "cell_type": "code",
   "execution_count": 428,
   "metadata": {
    "collapsed": false
   },
   "outputs": [
    {
     "data": {
      "text/plain": [
       "array([[ 0.00062469, -0.00216502],\n",
       "       [-0.00216502,  0.01050473]])"
      ]
     },
     "execution_count": 428,
     "metadata": {},
     "output_type": "execute_result"
    }
   ],
   "source": [
    "polyfit(X, Y, 1, cov=True)[1]"
   ]
  }
 ],
 "metadata": {
  "kernelspec": {
   "display_name": "Python 3",
   "language": "python",
   "name": "python3"
  },
  "language_info": {
   "codemirror_mode": {
    "name": "ipython",
    "version": 3
   },
   "file_extension": ".py",
   "mimetype": "text/x-python",
   "name": "python",
   "nbconvert_exporter": "python",
   "pygments_lexer": "ipython3",
   "version": "3.4.1"
  }
 },
 "nbformat": 4,
 "nbformat_minor": 1
}
