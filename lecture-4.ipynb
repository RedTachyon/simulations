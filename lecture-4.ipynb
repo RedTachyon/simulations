{
 "cells": [
  {
   "cell_type": "code",
   "execution_count": 1,
   "metadata": {
    "collapsed": true
   },
   "outputs": [],
   "source": [
    "import numpy as np\n",
    "import matplotlib.pyplot as plt\n",
    "%matplotlib inline\n",
    "\n",
    "from lec4 import Particle"
   ]
  },
  {
   "cell_type": "code",
   "execution_count": 2,
   "metadata": {
    "collapsed": true
   },
   "outputs": [],
   "source": [
    "def plot_size(size):\n",
    "    \"\"\"Sets the current plot size to the chosen value\"\"\"\n",
    "    plt.rcParams['figure.figsize'] = size"
   ]
  },
  {
   "cell_type": "code",
   "execution_count": 3,
   "metadata": {},
   "outputs": [],
   "source": [
    "def LJForce(r1, r2, L=8):\n",
    "    \"\"\"\n",
    "    Computes the force applied to the r1 particle, considering the boundary loop conditions.\n",
    "    \"\"\"\n",
    "    new_r2 = min([r2 + L*change\n",
    "                  for change\n",
    "                  in [np.array([x, y]) for x in [-1, 0, 1] for y in [-1, 0, 1]]\n",
    "                 ], key=lambda nr2: np.linalg.norm(r1-nr2)\n",
    "                )\n",
    "    \n",
    "    d = np.linalg.norm(r1 - new_r2)\n",
    "    \n",
    "    return 48*((1/d**14) - 0.5 * (1/d)**8) * (r1 - new_r2)"
   ]
  },
  {
   "cell_type": "code",
   "execution_count": 4,
   "metadata": {
    "collapsed": true
   },
   "outputs": [],
   "source": [
    "def plot_particles(particles, radius=.025, fname=None, show=True):\n",
    "\n",
    "    #plot_size((3, 3))\n",
    "    fig, ax = plt.subplots()\n",
    "    plt.xlim(0, 8);plt.ylim(0,8);\n",
    "    \n",
    "    for particle in particles:\n",
    "        color = plt.cm.summer(np.square(particle.momentum).sum())\n",
    "        circle = plt.Circle(xy=particle.position, radius=radius, color=color)\n",
    "        ax.add_artist(circle)\n",
    "        \n",
    "    if fname is not None:\n",
    "        plt.savefig(fname)\n",
    "        \n",
    "    if show: \n",
    "        plt.show()\n",
    "    \n",
    "    #return ax"
   ]
  },
  {
   "cell_type": "code",
   "execution_count": 5,
   "metadata": {},
   "outputs": [],
   "source": [
    "def initialize_particles(nx=10, ny=10, delta=.1):\n",
    "    \"\"\"Initializes the particles on a grid, with random velocities.\"\"\"\n",
    "    particles = [\n",
    "        Particle(r0 = (delta/2) + np.array([delta * i, delta * j]), \n",
    "                 p0 = np.random.rand(2) - .5,\n",
    "                 F = np.zeros(2)\n",
    "                )\n",
    "        for i in range(nx)\n",
    "        for j in range(ny)\n",
    "    ]\n",
    "    \n",
    "    return particles"
   ]
  },
  {
   "cell_type": "code",
   "execution_count": 6,
   "metadata": {
    "collapsed": true
   },
   "outputs": [],
   "source": [
    "def apply_bounds(particles, sizex=8, sizey=8):\n",
    "    for particle in particles:\n",
    "        particle.position = particle.position % np.array([sizex, sizey])\n",
    "\n",
    "def time_step(particles, forces):\n",
    "    for i, particle in enumerate(particles):\n",
    "        particle.evolve_frog(F=forces[i])"
   ]
  },
  {
   "cell_type": "code",
   "execution_count": 7,
   "metadata": {
    "collapsed": true
   },
   "outputs": [],
   "source": [
    "def get_forces(particles):\n",
    "    forces = []\n",
    "    for i, particle1 in enumerate(particles):\n",
    "        force = np.zeros(2)\n",
    "        for particle2 in particles[:i] + particles[i+1:]:\n",
    "            force += LJForce(particle1.position, particle2.position)\n",
    "        forces.append(force)\n",
    "        \n",
    "    return forces"
   ]
  },
  {
   "cell_type": "code",
   "execution_count": 64,
   "metadata": {},
   "outputs": [
    {
     "data": {
      "text/plain": [
       "[array([ -2.12742539,  17.07988977]),\n",
       " array([ 0.10363319, -0.0391365 ]),\n",
       " array([  0.8769424 , -16.81903561]),\n",
       " array([ 0.85008232, -0.73849392]),\n",
       " array([ -4.19097842,  12.55432233]),\n",
       " array([-0.07455172, -0.02880491]),\n",
       " array([-2.10566325,  0.79972265]),\n",
       " array([-18.74305805,  -3.99155603]),\n",
       " array([-1.34309811, -2.0509378 ]),\n",
       " array([ 18.6888932 ,   4.03189862]),\n",
       " array([  9.89678028, -31.35691753]),\n",
       " array([-0.28937827, -2.40195656]),\n",
       " array([  6.20627973, -10.79337228]),\n",
       " array([ -8.8120032 ,  31.84914635]),\n",
       " array([ 0.02463461,  0.11299701]),\n",
       " array([ 1.03891068,  1.7922344 ])]"
      ]
     },
     "execution_count": 64,
     "metadata": {},
     "output_type": "execute_result"
    }
   ],
   "source": [
    "get_forces(particles)"
   ]
  },
  {
   "cell_type": "code",
   "execution_count": 11,
   "metadata": {
    "collapsed": true
   },
   "outputs": [],
   "source": [
    "def ensemble_temp(particles):\n",
    "    N = len(particles)\n",
    "    T = (1./N) * sum([np.linalg.norm(particles[i].momentum)**2 for i in range(N)])\n",
    "    return T\n",
    "\n",
    "def get_forces_pres(particles):\n",
    "    forces = []\n",
    "    for i, particle1 in enumerate(particles):\n",
    "        force = []\n",
    "        for particle2 in particles[:i] + particles[i+1:]:\n",
    "            force.append(LJForce(particle1.position, particle2.position))\n",
    "        forces.append(force)\n",
    "        \n",
    "    return np.array(forces)\n",
    "\n",
    "def ensemble_pres(particles):\n",
    "    N = len(particles)\n",
    "    Fs = get_forces_pres(particles)\n",
    "    T = ensemble_temp(particles)\n",
    "    V = 8*8.\n",
    "    \n",
    "    pres = N*T/V + (1/3*V) * np.sum([\n",
    "            np.sum(np.dot(Fs[i], particles[i].position))\n",
    "            for i in range(16)\n",
    "        ])\n",
    "    \n",
    "    return pres\n",
    "    "
   ]
  },
  {
   "cell_type": "code",
   "execution_count": 8,
   "metadata": {},
   "outputs": [],
   "source": [
    "plot_size((5,5))"
   ]
  },
  {
   "cell_type": "code",
   "execution_count": 57,
   "metadata": {
    "scrolled": false
   },
   "outputs": [
    {
     "data": {
      "image/png": "[encoded data removed]",
      "text/plain": [
       "<matplotlib.figure.Figure at 0x7fa6dceb9748>"
      ]
     },
     "metadata": {},
     "output_type": "display_data"
    }
   ],
   "source": [
    "particles = initialize_particles(4, 4, delta=2)\n",
    "plot_particles(particles, radius=.5)"
   ]
  },
  {
   "cell_type": "code",
   "execution_count": 58,
   "metadata": {},
   "outputs": [
    {
     "data": {
      "text/plain": [
       "0.17787741393589412"
      ]
     },
     "execution_count": 58,
     "metadata": {},
     "output_type": "execute_result"
    }
   ],
   "source": [
    "T_init = ensemble_temp(particles)\n",
    "T_init"
   ]
  },
  {
   "cell_type": "code",
   "execution_count": 59,
   "metadata": {},
   "outputs": [],
   "source": [
    "for particle in particles:\n",
    "    particle.momentum *= np.sqrt(2.5/T_init)"
   ]
  },
  {
   "cell_type": "code",
   "execution_count": 60,
   "metadata": {},
   "outputs": [
    {
     "data": {
      "text/plain": [
       "2.4999999999999996"
      ]
     },
     "execution_count": 60,
     "metadata": {},
     "output_type": "execute_result"
    }
   ],
   "source": [
    "ensemble_temp(particles)"
   ]
  },
  {
   "cell_type": "code",
   "execution_count": 63,
   "metadata": {
    "scrolled": true
   },
   "outputs": [
    {
     "name": "stdout",
     "output_type": "stream",
     "text": [
      "Step 0\n",
      "Step 100\n",
      "Step 200\n",
      "Step 300\n",
      "Step 400\n",
      "Step 500\n",
      "Step 600\n",
      "Step 700\n",
      "Step 800\n",
      "Step 900\n",
      "Step 1000\n",
      "Step 1100\n",
      "Step 1200\n",
      "Step 1300\n",
      "Step 1400\n",
      "Step 1500\n",
      "Step 1600\n",
      "Step 1700\n",
      "Step 1800\n",
      "Step 1900\n",
      "Step 2000\n",
      "Step 2100\n",
      "Step 2200\n",
      "Step 2300\n",
      "Step 2400\n",
      "Step 2500\n",
      "Step 2600\n",
      "Step 2700\n",
      "Step 2800\n",
      "Step 2900\n",
      "Step 3000\n",
      "Step 3100\n",
      "Step 3200\n",
      "Step 3300\n",
      "Step 3400\n",
      "Step 3500\n",
      "Step 3600\n",
      "Step 3700\n",
      "Step 3800\n",
      "Step 3900\n",
      "Step 4000\n",
      "Step 4100\n",
      "Step 4200\n",
      "Step 4300\n",
      "Step 4400\n",
      "Step 4500\n",
      "Step 4600\n",
      "Step 4700\n",
      "Step 4800\n",
      "Step 4900\n",
      "Step 5000\n",
      "Step 5100\n",
      "Step 5200\n",
      "Step 5300\n",
      "Step 5400\n",
      "Step 5500\n",
      "Step 5600\n",
      "Step 5700\n",
      "Step 5800\n",
      "Step 5900\n",
      "Step 6000\n",
      "Step 6100\n",
      "Step 6200\n",
      "Step 6300\n",
      "Step 6400\n",
      "Step 6500\n",
      "Step 6600\n",
      "Step 6700\n",
      "Step 6800\n",
      "Step 6900\n",
      "Step 7000\n",
      "Step 7100\n",
      "Step 7200\n",
      "Step 7300\n",
      "Step 7400\n",
      "Step 7500\n",
      "Step 7600\n",
      "Step 7700\n",
      "Step 7800\n",
      "Step 7900\n",
      "Step 8000\n",
      "Step 8100\n",
      "Step 8200\n",
      "Step 8300\n",
      "Step 8400\n",
      "Step 8500\n",
      "Step 8600\n",
      "Step 8700\n",
      "Step 8800\n",
      "Step 8900\n",
      "Step 9000\n",
      "Step 9100\n",
      "Step 9200\n",
      "Step 9300\n",
      "Step 9400\n",
      "Step 9500\n",
      "Step 9600\n",
      "Step 9700\n",
      "Step 9800\n",
      "Step 9900\n",
      "Step 10000\n",
      "CPU times: user 9min 26s, sys: 2.38 s, total: 9min 28s\n",
      "Wall time: 9min 29s\n"
     ]
    }
   ],
   "source": [
    "%%time\n",
    "FREQ = 100\n",
    "T_list = []\n",
    "P_list = []\n",
    "for step in range(10001):\n",
    "    \n",
    "    # Apply the update\n",
    "    forces = get_forces(particles)\n",
    "    \n",
    "    time_step(particles, forces=forces)\n",
    "    apply_bounds(particles)\n",
    "    # End of update\n",
    "    \n",
    "    T = ensemble_temp(particles)\n",
    "    P = ensemble_pres(particles)\n",
    "    \n",
    "    T_list.append(T)\n",
    "    P_list.append(P)\n",
    "    \n",
    "    # Plotting (if necessary)\n",
    "    if not step % FREQ:\n",
    "        print(\"Step {}\".format(step))\n",
    "        plot_particles(particles,\n",
    "                       radius=.5,\n",
    "                       fname='animation3/frame{}.png'.format(str(step//FREQ).rjust(4, '0')),\n",
    "                       show=False)\n",
    "        plt.close()\n",
    "\n",
    "        \n",
    "\n",
    "#plot_particles(particles)"
   ]
  },
  {
   "cell_type": "code",
   "execution_count": 61,
   "metadata": {},
   "outputs": [
    {
     "data": {
      "text/plain": [
       "-3.1370062081054706"
      ]
     },
     "execution_count": 61,
     "metadata": {},
     "output_type": "execute_result"
    }
   ],
   "source": [
    "ensemble_pres(particles)"
   ]
  }
 ],
 "metadata": {
  "kernelspec": {
   "display_name": "Python 3",
   "language": "python",
   "name": "python3"
  },
  "language_info": {
   "codemirror_mode": {
    "name": "ipython",
    "version": 3
   },
   "file_extension": ".py",
   "mimetype": "text/x-python",
   "name": "python",
   "nbconvert_exporter": "python",
   "pygments_lexer": "ipython3",
   "version": "3.5.4"
  }
 },
 "nbformat": 4,
 "nbformat_minor": 1
}
