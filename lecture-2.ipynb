{
 "cells": [
  {
   "cell_type": "code",
   "execution_count": 1,
   "metadata": {
    "collapsed": true
   },
   "outputs": [],
   "source": [
    "import numpy as np\n",
    "import matplotlib.pyplot as plt\n",
    "%matplotlib inline"
   ]
  },
  {
   "cell_type": "code",
   "execution_count": 2,
   "metadata": {
    "collapsed": true
   },
   "outputs": [],
   "source": [
    "def gaussian(x, mean=0, std=1):\n",
    "    \"\"\"Computes the gaussian function at point x, with given mean and standard deviation\"\"\"\n",
    "    return np.exp(-np.square(x-mean)/(2*np.square(std)))/np.sqrt(2*np.pi*np.square(std))\n",
    "\n",
    "def plot_size(size):\n",
    "    \"\"\"Sets the current plot size to the chosen value\"\"\"\n",
    "    plt.rcParams['figure.figsize'] = size"
   ]
  },
  {
   "cell_type": "code",
   "execution_count": 3,
   "metadata": {
    "collapsed": true
   },
   "outputs": [],
   "source": [
    "class Particle:\n",
    "    \"\"\"\n",
    "    This class contains informations about a single particle. \n",
    "    \"\"\"\n",
    "    \n",
    "    def __init__(self, rad, r, v):\n",
    "        \"\"\"\n",
    "        Creates the Particle object.\n",
    "        \n",
    "        Args:\n",
    "            rad: float, radius of the particle\n",
    "            r: array or list, initial position vector\n",
    "            v: array or list, initial velocity vector\n",
    "        \"\"\"\n",
    "        \n",
    "        self.rad = rad\n",
    "        self.r = np.array(r)\n",
    "        self.v = np.array(v)\n",
    "        \n",
    "        self.x, self.y = self.r\n",
    "        self.v_x, self.v_y = self.v\n",
    "        \n",
    "    def __str__(self):\n",
    "        return \"Particle(rad=%.2f, r=%s, v=%s)\" % (self.rad, self.r, self.v)\n",
    "    \n",
    "    def __repr__(self):\n",
    "        return \"Particle(rad=%.2f, r=%s, v=%s)\" % (self.rad, self.r, self.v)"
   ]
  },
  {
   "cell_type": "code",
   "execution_count": 4,
   "metadata": {
    "collapsed": false
   },
   "outputs": [
    {
     "name": "stdout",
     "output_type": "stream",
     "text": [
      "Estimated mean: 99.89616. \n",
      "Estimated std: 15.10024\n"
     ]
    }
   ],
   "source": [
    "mean = 100\n",
    "std = 15\n",
    "data = np.random.normal(loc=mean, scale=std, size=(20000,))\n",
    "\n",
    "mean_hat, std_hat = data.mean(), data.std()\n",
    "\n",
    "print(\"Estimated mean: %.5f. \\nEstimated std: %.5f\" % (mean_hat, std_hat))"
   ]
  },
  {
   "cell_type": "code",
   "execution_count": 5,
   "metadata": {
    "collapsed": false
   },
   "outputs": [],
   "source": [
    "# Estimate the gaussian distribution using the CLT\n",
    "unidata = np.random.uniform(-1, 1, (20000, 10))\n",
    "data_clt = 100 + 15*unidata.sum(1)*np.sqrt(3./10)"
   ]
  },
  {
   "cell_type": "code",
   "execution_count": 6,
   "metadata": {
    "collapsed": false,
    "scrolled": false
   },
   "outputs": [],
   "source": [
    "plot_size((10, 8.5))\n",
    "\n",
    "plt.subplot(211)\n",
    "n, bins, patches = plt.hist(data, 100, normed=True, label=\"Sampled distribution\")\n",
    "\n",
    "X = np.linspace(bins[0], bins[-1], 1000)\n",
    "Y = gaussian(X, 100, 15)\n",
    "plt.plot(X, Y, linewidth=5, label=\"Theoretical distribution\")\n",
    "\n",
    "plt.title(\"Sampling the gaussian distribution with mean %.0f and std %.0f\" % (mean, std))\n",
    "plt.xlabel('x')\n",
    "plt.ylabel('y')\n",
    "plt.xlim(50, 150)\n",
    "plt.legend()\n",
    "\n",
    "plt.subplot(212)\n",
    "plt.hist(data_clt, 100, normed=True, label=\"Uniform estimate\")\n",
    "plt.plot(X, Y, linewidth=5, label=\"Theoretical distribution\")\n",
    "\n",
    "plt.title(\"Estimating the gaussian distribution with uniform sampling\")\n",
    "plt.xlabel('x')\n",
    "plt.ylabel('y')\n",
    "plt.xlim(50, 150)\n",
    "plt.legend()\n",
    "plt.show()"
   ]
  },
  {
   "cell_type": "code",
   "execution_count": 7,
   "metadata": {
    "collapsed": true
   },
   "outputs": [],
   "source": [
    "def check_collision(p1, p2):\n",
    "    \"\"\"\n",
    "    Checks whether or not two particles collide, \n",
    "    or, in other words, if the distance between their centers is lower than the sum of their radii.\n",
    "    \n",
    "    Args:\n",
    "        p1, p2: Particle, particles to check collision for\n",
    "        \n",
    "    Returns:\n",
    "        collision: boolean\n",
    "    \"\"\"\n",
    "    \n",
    "    rad_sum = p1.rad + p2.rad\n",
    "    dist = np.sqrt(np.sum(np.square(p1.r - p2.r)))\n",
    "    collision = dist < rad_sum\n",
    "    return collision\n",
    "\n",
    "def any_collisions(p1, particles):\n",
    "    \"\"\"\n",
    "    Checks whether or not the particle collides with any of the particles in the list.\n",
    "    \n",
    "    Args:\n",
    "        p1: Particle, particle to check collision\n",
    "        particles: list of Particle objects, list of already existing particles\n",
    "        \n",
    "    Returns:\n",
    "        collision: boolean\n",
    "    \"\"\"\n",
    "    collision = False\n",
    "    \n",
    "    for p2 in particles:\n",
    "        if check_collision(p1, p2):\n",
    "            collision = True\n",
    "            return collision\n",
    "        \n",
    "    return collision\n",
    "    \n",
    "   "
   ]
  },
  {
   "cell_type": "code",
   "execution_count": 8,
   "metadata": {
    "collapsed": true
   },
   "outputs": [],
   "source": [
    "def generate_particles(n, collision=True, size=.05, max_try=1000):\n",
    "    \"\"\"\n",
    "    Generates n particles with random position in [0,1] x [0,1] box.\n",
    "    \n",
    "    Args:\n",
    "        n: int, number of particles to generate\n",
    "        collision: boolean, whether to allow collisions between particles\n",
    "        size: float, size of the particles\n",
    "        max_try: int, maximum number of attempts to generate the particles\n",
    "        \n",
    "    Returns:\n",
    "        particles: list of Particle\n",
    "    \"\"\"\n",
    "    \n",
    "    if collision:\n",
    "        max_try = n\n",
    "        \n",
    "    particles = []\n",
    "    for _ in range(max_try):\n",
    "        pos = np.random.rand(2)\n",
    "        vel = np.random.rand(2)\n",
    "        particle = Particle(rad=size, r=pos, v=vel)\n",
    "        if not collision:\n",
    "            collides = any_collisions(particle, particles)\n",
    "            if not collides:\n",
    "                particles.append(particle)\n",
    "            \n",
    "            if len(particles) == n:\n",
    "                break\n",
    "        else:\n",
    "            particles.append(particle)\n",
    "            \n",
    "    assert len(particles) == n\n",
    "    \n",
    "    return particles\n",
    "        \n",
    "    "
   ]
  },
  {
   "cell_type": "code",
   "execution_count": 9,
   "metadata": {
    "collapsed": false
   },
   "outputs": [],
   "source": [
    "RADIUS = .05\n",
    "\n",
    "plot_size((3, 3))\n",
    "fig, ax = plt.subplots()\n",
    "\n",
    "particles = generate_particles(16, collision=False, size=.05)\n",
    "\n",
    "for particle in particles:\n",
    "    color = plt.cm.summer(np.square(particle.v).sum())\n",
    "    circle = plt.Circle(xy=particle.r, radius=particle.rad, color=color)\n",
    "    ax.add_artist(circle)\n"
   ]
  },
  {
   "cell_type": "code",
   "execution_count": 12,
   "metadata": {
    "collapsed": false
   },
   "outputs": [],
   "source": [
    "def plot_particles(particles):\n",
    "    RADIUS = .05\n",
    "\n",
    "    plot_size((3, 3))\n",
    "    fig, ax = plt.subplots()\n",
    "    \n",
    "    for particle in particles:\n",
    "        color = plt.cm.summer(np.square(particle.v).sum())\n",
    "        circle = plt.Circle(xy=particle.r, radius=particle.rad, color=color)\n",
    "        ax.add_artist(circle)\n",
    "    \n",
    "    return ax"
   ]
  },
  {
   "cell_type": "code",
   "execution_count": 21,
   "metadata": {
    "collapsed": true
   },
   "outputs": [],
   "source": [
    "def time_step(particles):\n",
    "    for particle in particles:\n",
    "        particle.r += 0.1*particle.v\n",
    "    return particles"
   ]
  },
  {
   "cell_type": "code",
   "execution_count": 36,
   "metadata": {
    "collapsed": false
   },
   "outputs": [
    {
     "data": {
      "text/plain": [
       "<matplotlib.axes.AxesSubplot at 0x7fe79012d978>"
      ]
     },
     "execution_count": 36,
     "metadata": {},
     "output_type": "execute_result"
    },
    {
     "data": {
      "image/png": "[encoded data removed]",
      "text/plain": [
       "<matplotlib.figure.Figure at 0x7fe7901a95c0>"
      ]
     },
     "metadata": {},
     "output_type": "display_data"
    }
   ],
   "source": [
    "particles = generate_particles(16, False)\n",
    "plot_particles(particles)"
   ]
  },
  {
   "cell_type": "code",
   "execution_count": 42,
   "metadata": {
    "collapsed": false
   },
   "outputs": [
    {
     "data": {
      "text/plain": [
       "<matplotlib.axes.AxesSubplot at 0x7fe78b722b70>"
      ]
     },
     "execution_count": 42,
     "metadata": {},
     "output_type": "execute_result"
    },
    {
     "data": {
      "image/png": "[encoded data removed]",
      "text/plain": [
       "<matplotlib.figure.Figure at 0x7fe78b6f1e48>"
      ]
     },
     "metadata": {},
     "output_type": "display_data"
    }
   ],
   "source": [
    "particles = time_step(particles)\n",
    "plot_particles(particles)"
   ]
  }
 ],
 "metadata": {
  "kernelspec": {
   "display_name": "Python 3",
   "language": "python",
   "name": "python3"
  },
  "language_info": {
   "codemirror_mode": {
    "name": "ipython",
    "version": 3
   },
   "file_extension": ".py",
   "mimetype": "text/x-python",
   "name": "python",
   "nbconvert_exporter": "python",
   "pygments_lexer": "ipython3",
   "version": "3.4.1"
  }
 },
 "nbformat": 4,
 "nbformat_minor": 1
}
