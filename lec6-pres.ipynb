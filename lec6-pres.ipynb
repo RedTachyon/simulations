{
 "cells": [
  {
   "cell_type": "markdown",
   "metadata": {},
   "source": [
    "# Generacja fraktali w Pythonie"
   ]
  },
  {
   "cell_type": "markdown",
   "metadata": {},
   "source": [
    "## Importuję potrzebne biblioteki"
   ]
  },
  {
   "cell_type": "code",
   "execution_count": 1,
   "metadata": {
    "collapsed": true
   },
   "outputs": [],
   "source": [
    "import matplotlib.pyplot as plt\n",
    "import numpy as np\n",
    "from scipy import polyfit\n",
    "from tqdm import tqdm # optional"
   ]
  },
  {
   "cell_type": "markdown",
   "metadata": {},
   "source": [
    "## Funkcje pomocnicze"
   ]
  },
  {
   "cell_type": "markdown",
   "metadata": {},
   "source": [
    "Docelowo chciałbym zapisywać dany fraktal w formacie:\n",
    "```python\n",
    "sierpinski_nums = [\n",
    "    [0.5, 0.0, 0.0, 0.5, 0.0, 0.0],\n",
    "    [0.5, 0.0, 0.0, 0.5, 0.5, 0.0],\n",
    "    [0.5, 0.0, 0.0, 0.5, 0.25, np.sqrt(3.)/4],\n",
    "]\n",
    "\n",
    "sierpinski_probs = [\n",
    "    1./3,\n",
    "    1./3,\n",
    "    1./3,\n",
    "]\n",
    "\n",
    "\n",
    "```\n",
    "\n",
    "gdzie pierwsza tablica opisuje przekształcenia (jak na wykładzie), a druga - odpowiednie prawdopodobieństwa."
   ]
  },
  {
   "cell_type": "markdown",
   "metadata": {},
   "source": [
    "Dla wydajności numerycznej, dobrze jest wykonywać transformacje jako mnożenie macierzy w numpy, z użyciem funkcji np.dot(W, x). \n",
    "\n",
    "Mam zatem funkcję konwertującą z podanego wyżej formatu, do macierzy obrotu i wektora przesunięcia."
   ]
  },
  {
   "cell_type": "markdown",
   "metadata": {},
   "source": [
    "Dla walorów edukacyjnych funkcje są opatrzone docstringami w formacie Google'a."
   ]
  },
  {
   "cell_type": "code",
   "execution_count": 34,
   "metadata": {
    "collapsed": true
   },
   "outputs": [],
   "source": [
    "def generate_matrices(m):\n",
    "    \"\"\"\n",
    "    Converts the fractal parameters to a matrix and a vector.\n",
    "    \n",
    "    Args:\n",
    "        m: list of length 6, holds fractal params\n",
    "        \n",
    "    Returns:\n",
    "        W: rotation matrix of the transformation\n",
    "        b: translation vector of the transformation\n",
    "    \"\"\"\n",
    "    W = np.array([[m[0], m[1]],\n",
    "                  [m[2], m[3]]])\n",
    "    \n",
    "    b = np.array([m[4], m[5]], dtype=float)\n",
    "    \n",
    "    return W, b"
   ]
  },
  {
   "cell_type": "markdown",
   "metadata": {},
   "source": [
    "Należy jednak pamiętać że każdy fraktal jest definiowany przez kilka takich zestawów parametrów. Dodaję więc funkcję która pozwala losowo, z zadanym rozkładem prawdopodobieństwa, wybrać jedną z list."
   ]
  },
  {
   "cell_type": "code",
   "execution_count": 25,
   "metadata": {
    "collapsed": true
   },
   "outputs": [],
   "source": [
    "def get_random_params(m_list, probs):\n",
    "    \"\"\"\n",
    "    Selects a random list from a list of lists, according to a distribution.\n",
    "    \n",
    "    Args:\n",
    "        m_list: list of lists, contains the lists from which we want to choose\n",
    "        probs: list of floats, such that sum(probs)==1, probability distribution over the lists\n",
    "        \n",
    "    Returns:\n",
    "        W: randomly chosen rotation matrix of the transformation\n",
    "        b: randomly chosen translation vector of the transformation\n",
    "    \n",
    "    \"\"\"\n",
    "    m = m_list[np.random.choice(range(len(m_list)), p=probs)]\n",
    "    return generate_matrices(m)"
   ]
  },
  {
   "cell_type": "markdown",
   "metadata": {},
   "source": [
    "## Definicja fraktali"
   ]
  },
  {
   "cell_type": "markdown",
   "metadata": {},
   "source": [
    "Przykładowy fraktal, trójkąt Sierpińskiego:"
   ]
  },
  {
   "cell_type": "code",
   "execution_count": 26,
   "metadata": {
    "collapsed": true
   },
   "outputs": [],
   "source": [
    "sierpinski_nums = [\n",
    "    [0.5, 0.0, 0.0, 0.5, 0.0, 0.0],\n",
    "    [0.5, 0.0, 0.0, 0.5, 0.5, 0.0],\n",
    "    [0.5, 0.0, 0.0, 0.5, 0.25, np.sqrt(3.)/4],\n",
    "]\n",
    "\n",
    "sierpinski_probs = [\n",
    "    1./3,\n",
    "    1./3,\n",
    "    1./3,\n",
    "]\n",
    "\n",
    "sierpinski = (sierpinski_nums, sierpinski_probs)"
   ]
  },
  {
   "cell_type": "markdown",
   "metadata": {},
   "source": [
    "Pozostałe fraktale importuję z zewnętrznego pliku, dla elegancji kodu."
   ]
  },
  {
   "cell_type": "code",
   "execution_count": 28,
   "metadata": {
    "collapsed": false
   },
   "outputs": [],
   "source": [
    "from fractals import barnsley, dragon, levy"
   ]
  },
  {
   "cell_type": "markdown",
   "metadata": {},
   "source": [
    "Wczytuję parametry wybranego fraktala:"
   ]
  },
  {
   "cell_type": "code",
   "execution_count": 87,
   "metadata": {
    "collapsed": true
   },
   "outputs": [],
   "source": [
    "m_list, probs = dragon\n",
    "###probs = np.array(probs) # Check if necessary"
   ]
  },
  {
   "cell_type": "markdown",
   "metadata": {},
   "source": [
    "## Generacja fraktala"
   ]
  },
  {
   "cell_type": "markdown",
   "metadata": {},
   "source": [
    "Warunek początkowy: wektor (0, 0). Inicjalizuję również historię w której będę przechowywał kolejne położenia."
   ]
  },
  {
   "cell_type": "code",
   "execution_count": 88,
   "metadata": {
    "collapsed": true
   },
   "outputs": [],
   "source": [
    "x = np.array([0, 0])\n",
    "history = x.copy()"
   ]
  },
  {
   "cell_type": "markdown",
   "metadata": {},
   "source": [
    "Wykonuję pewną liczbę kroków, gdzie w każdym kroku wybieram losową transformację. dokonuję obrotu i przesunięcia obecnego wektora położenia, i zapisuję nowe położenie w historii."
   ]
  },
  {
   "cell_type": "code",
   "execution_count": 89,
   "metadata": {
    "collapsed": false,
    "scrolled": true
   },
   "outputs": [
    {
     "name": "stderr",
     "output_type": "stream",
     "text": [
      "100%|██████████| 100000/100000 [00:15<00:00, 6614.72it/s]\n"
     ]
    }
   ],
   "source": [
    "for step in tqdm(range(100000)):\n",
    "    W, b = get_random_params(m_list, probs)\n",
    "    x = np.dot(W, x) + b\n",
    "    history = np.vstack((history, x))"
   ]
  },
  {
   "cell_type": "code",
   "execution_count": 90,
   "metadata": {
    "collapsed": true
   },
   "outputs": [],
   "source": [
    "plt.rcParams['axes.facecolor'] = 'black'\n",
    "plt.scatter(history[:, 0], history[:, 1], lw=0, s=.4, c='g')\n",
    "plt.show()"
   ]
  },
  {
   "cell_type": "markdown",
   "metadata": {},
   "source": [
    "Dla walorów estetycznych: sortuję historię \"w pionie\" i robię ładną mapę kolorów. Bo mogę."
   ]
  },
  {
   "cell_type": "code",
   "execution_count": 75,
   "metadata": {
    "collapsed": false
   },
   "outputs": [],
   "source": [
    "hist_sort = history[np.argsort(history[:, 1])]\n",
    "cmap = np.linspace(0, 1, history.shape[0])"
   ]
  },
  {
   "cell_type": "code",
   "execution_count": 85,
   "metadata": {
    "collapsed": true
   },
   "outputs": [],
   "source": [
    "plt.rcParams['axes.facecolor'] = 'black'\n",
    "plt.scatter(hist_sort[:, 0], hist_sort[:, 1], lw=0, s=.4, c=cmap)\n",
    "plt.show()"
   ]
  },
  {
   "cell_type": "markdown",
   "metadata": {},
   "source": [
    "## Wyznaczanie wymiaru fraktalnego"
   ]
  },
  {
   "cell_type": "markdown",
   "metadata": {},
   "source": [
    "Wyznaczę teraz wymiar fraktalny wybranego fraktala, metodą \"pudełkową\". Na początek parę zmiennych pomocniczych."
   ]
  },
  {
   "cell_type": "code",
   "execution_count": 77,
   "metadata": {
    "collapsed": true
   },
   "outputs": [],
   "source": [
    "xpoints, ypoints = history[:, 0], history[:, 1]\n",
    "xmin, ymin = np.min(xpoints), np.min(ypoints)\n",
    "xmax, ymax = np.max(xpoints), np.max(ypoints)"
   ]
  },
  {
   "cell_type": "markdown",
   "metadata": {},
   "source": [
    "Chcę zmierzyć wymiar dla różnych podziałów pudełka, od $2^0$ do $2^{11}$. Korzystam ze sztuczki podanej na wykładzie, z ustawianiem wartości macierzy $2^r x 2^r$ zależnie od wartości punktów fraktala."
   ]
  },
  {
   "cell_type": "code",
   "execution_count": 82,
   "metadata": {
    "collapsed": false
   },
   "outputs": [
    {
     "name": "stderr",
     "output_type": "stream",
     "text": [
      "100%|██████████| 11/11 [00:00<00:00, 208.71it/s]\n"
     ]
    }
   ],
   "source": [
    "r_history = []\n",
    "N_history = []\n",
    "for r in tqdm(range(11)):\n",
    "    box = np.zeros((2**r, 2**r))\n",
    "    tabx = np.array((xpoints - xmin) / (xmax - xmin + 1e-8) * 2**r, dtype=int)\n",
    "    taby = np.array((ypoints - ymin) / (ymax - ymin + 1e-8) * 2**r, dtype=int)\n",
    "\n",
    "    box[tabx, taby] = 1\n",
    "    \n",
    "    r_history.append(r)\n",
    "    N_history.append(box.sum())\n",
    "    \n",
    "r_history = np.array(r_history)\n",
    "N_history = np.array(N_history)"
   ]
  },
  {
   "cell_type": "markdown",
   "metadata": {},
   "source": [
    "### Dopasowanie"
   ]
  },
  {
   "cell_type": "markdown",
   "metadata": {},
   "source": [
    "Przekształcam wielkości do skali logarytmicznej i obliczam najlepsze parametry dopasowania prostej."
   ]
  },
  {
   "cell_type": "code",
   "execution_count": 83,
   "metadata": {
    "collapsed": false
   },
   "outputs": [],
   "source": [
    "X = np.log(2) * r_history\n",
    "Y = np.log(N_history)\n",
    "\n",
    "a, b = polyfit(X, Y, 1)\n",
    "\n",
    "plt.rcParams['axes.facecolor'] = 'white'\n",
    "\n",
    "plt.scatter(X, Y)\n",
    "plt.plot(X, a*X + b)\n",
    "plt.show()"
   ]
  },
  {
   "cell_type": "markdown",
   "metadata": {},
   "source": [
    "Współczynnik nachylenia prostej odpowiada wymiarowi fraktalnemu."
   ]
  },
  {
   "cell_type": "code",
   "execution_count": 86,
   "metadata": {
    "collapsed": false
   },
   "outputs": [
    {
     "name": "stdout",
     "output_type": "stream",
     "text": [
      "1.68475659946\n"
     ]
    }
   ],
   "source": [
    "print(a)"
   ]
  }
 ],
 "metadata": {
  "kernelspec": {
   "display_name": "Python 3",
   "language": "python",
   "name": "python3"
  },
  "language_info": {
   "codemirror_mode": {
    "name": "ipython",
    "version": 3
   },
   "file_extension": ".py",
   "mimetype": "text/x-python",
   "name": "python",
   "nbconvert_exporter": "python",
   "pygments_lexer": "ipython3",
   "version": "3.4.1"
  }
 },
 "nbformat": 4,
 "nbformat_minor": 1
}
